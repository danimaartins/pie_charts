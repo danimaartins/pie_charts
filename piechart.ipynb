{
 "cells": [
  {
   "cell_type": "markdown",
   "metadata": {},
   "source": [
    "*Como criar gráficos de pizza com biblioteca matplotlib, os famosos piecharts!*\n",
    "\n",
    "Olá! Hoje iniciaremos mais um post sobre criação de gráficos!\n",
    "\n",
    "\n",
    "### Antes de iniciar:\n",
    "\n",
    "Eu disponibilizo todo o código que escrevi aqui por meio de um repositório para você poder praticar, e também aconselho que olhe a documentação para informações mais detalhes, confira:\n",
    "\n",
    "Repositório deste post [aqui!](https://github.com/matheusbattisti/pie_charts)\n",
    "\n",
    "Veja a documentação do pie chart no matplotlib [aqui.](https://matplotlib.org/api/_as_gen/matplotlib.pyplot.pie.html)\n",
    "\n",
    "## Vamos lá:\n",
    "\n",
    "O gráfico de pizza era o que mais faziamos nos nossos super trabalhos da escola, aquele PowerPoint nervoso com gráfico bonitão lá, realmente nós nos achavamos estatísticos de ponta.\n",
    "\n",
    "Vou explicar qual a sua utilização, como construir ele no matplotlib e também alguns recursos extras para incrementarmos ainda mais nossos gráficos, deixando eles mais fáceis de serem interpretados, vamos lá!\n",
    "\n",
    "\n",
    "## Quando utilizar o gráfico de pizza?\n",
    "\n",
    "Um gráfico de pizza se mostra bem utilizado quando usamos em variáveis categóricas, ou seja, estamos tentando mostrar como é composto aquele conjunto de dados, por exemplo:"
   ]
  },
  {
   "cell_type": "code",
   "execution_count": 2,
   "metadata": {},
   "outputs": [
    {
     "data": {
      "text/plain": [
       "<Figure size 640x480 with 1 Axes>"
      ]
     },
     "metadata": {},
     "output_type": "display_data"
    }
   ],
   "source": [
    "# Importando matplotlib\n",
    "import matplotlib.pyplot as plt\n",
    "\n",
    "# Criando nosso conjunto de dados\n",
    "labels = 'Carros', 'Motos', 'Ônibus', 'Caminhões'\n",
    "sizes = [40, 30, 15, 20]\n",
    "\n",
    "# Estamos criando a representação, área de plotagem\n",
    "fig1, ax1 = plt.subplots()\n",
    "\n",
    "# Criando o gráfico\n",
    "ax1.pie(sizes, labels=labels, autopct='%1.1f%%',\n",
    "        shadow=True, startangle=90)\n",
    "\n",
    "# Com esta opção, o gráfico ficará em círculo\n",
    "ax1.axis('equal')\n",
    "\n",
    "# Mostra o gráfico\n",
    "plt.show()"
   ]
  },
  {
   "cell_type": "markdown",
   "metadata": {},
   "source": [
    "Então ele se encaixa muito bem quando queremos mostrar proporções, áreas de crescimento na empresa, grupos diferentes, ficando assim muito clara a diferença entre elas.\n",
    "\n",
    "## Quando não utilizar o gráfico:\n",
    "\n",
    "Mais importante de que quando utilizar, é quando não utilizar, certo?\n",
    "\n",
    "Este gráfico, infelizmente, tem alguns probleminhas, confira:\n",
    "\n",
    "- Não use quando for mostrar valores zerados;\n",
    "- Não use quando você tem dados negativos no dataset;\n",
    "- Não use quando precisar mostrar mais que 7 áreas;\n",
    "\n",
    "O gráfico em si é muito fácil de ler, o que ajuda leigos, mas nestas situações acima é um tiro no pé.\n",
    "\n",
    "Pode deixar a visualização até mais complicada, as informações confusas, fique atento a isso.\n",
    "\n",
    "Outra informação importante é que não é muito bem visto aos olhos de quem já está na área de análise há muito tempo, sempre tem uma forma melhor de dispor os dados.\n",
    "\n",
    "E além de tudo isso, observe seus dados! O pie chart é um gráfico que cada segmento representa uma 'categoria', é isso que você quer representar com os seus dados?\n",
    "\n",
    "Fica a reflexão!\n",
    "\n",
    "## Construção do piechart:"
   ]
  },
  {
   "cell_type": "code",
   "execution_count": 30,
   "metadata": {},
   "outputs": [
    {
     "data": {
      "image/png": "[encoded data removed]",
      "text/plain": [
       "<Figure size 720x360 with 1 Axes>"
      ]
     },
     "metadata": {},
     "output_type": "display_data"
    }
   ],
   "source": [
    "# Importando numpy\n",
    "import numpy as np\n",
    "\n",
    "# Aqui criamos a área que plotamos o gráfico e definimos seu tamanho\n",
    "fig, ax = plt.subplots(figsize=(10, 5), subplot_kw=dict(aspect=\"equal\"))\n",
    "\n",
    "# Dados para compor o gráfico\n",
    "recipe = [\"Trigo\",\n",
    "          \"Arroz\",\n",
    "          \"Feijão\",\n",
    "          \"Batata\",\n",
    "          \"Aipim\"]\n",
    "\n",
    "# Definindo a quantidade de cada dado\n",
    "data = [100, 250, 200, 120, 80]\n",
    "\n",
    "# Aqui serão colocados os kg e as porcentagens no gráfico\n",
    "def func(pct, allvals):\n",
    "    # calc %\n",
    "    absolute = int(pct/100.*np.sum(allvals))\n",
    "    # fazendo legenda do gráfico com % e kg\n",
    "    return \"{:.1f}%\\n({:d} kg)\".format(pct, absolute)\n",
    "\n",
    "# Criando o gráfico e colocando a função da legenda interna\n",
    "wedges, texts, autotexts = ax.pie(data, autopct=lambda pct: func(pct, data),\n",
    "                                  textprops=dict(color=\"w\"))\n",
    "\n",
    "# Definindo a caixa de legenda externa, título, localização e onde vai 'ancorar o box'\n",
    "ax.legend(wedges, recipe,\n",
    "          title=\"Produtos\",\n",
    "          loc=\"center left\",\n",
    "          bbox_to_anchor=(1, 0, 0.5, 1))\n",
    "\n",
    "# Aqui definimos o tamanho do texto de dentro do gráfico, e o peso da fonte como bold\n",
    "plt.setp(autotexts, size=8, weight=\"bold\")\n",
    "\n",
    "# Título do gráfico\n",
    "ax.set_title(\"Quantidade de itens do estoque em kg:\")\n",
    "\n",
    "# Mostrando o gráfico\n",
    "plt.show()"
   ]
  }
 ],
 "metadata": {
  "kernelspec": {
   "display_name": "Python 3",
   "language": "python",
   "name": "python3"
  },
  "language_info": {
   "codemirror_mode": {
    "name": "ipython",
    "version": 3
   },
   "file_extension": ".py",
   "mimetype": "text/x-python",
   "name": "python",
   "nbconvert_exporter": "python",
   "pygments_lexer": "ipython3",
   "version": "3.6.4"
  }
 },
 "nbformat": 4,
 "nbformat_minor": 2
}
